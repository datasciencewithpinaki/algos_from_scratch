{
 "cells": [
  {
   "cell_type": "code",
   "execution_count": 1,
   "metadata": {},
   "outputs": [],
   "source": [
    "import numpy as np\n",
    "\n",
    "import matplotlib.pyplot as plt"
   ]
  },
  {
   "cell_type": "code",
   "execution_count": 2,
   "metadata": {},
   "outputs": [],
   "source": [
    "from IPython.core.interactiveshell import InteractiveShell\n",
    "InteractiveShell.ast_node_interactivity = 'all'"
   ]
  },
  {
   "cell_type": "code",
   "execution_count": 3,
   "metadata": {},
   "outputs": [
    {
     "data": {
      "text/plain": [
       "(100, 1)"
      ]
     },
     "execution_count": 3,
     "metadata": {},
     "output_type": "execute_result"
    },
    {
     "data": {
      "text/plain": [
       "(100, 1)"
      ]
     },
     "execution_count": 3,
     "metadata": {},
     "output_type": "execute_result"
    }
   ],
   "source": [
    "# dataset\n",
    "X = np.random.randn(100,1)\n",
    "y = 7*X + np.random.rand()\n",
    "\n",
    "X.shape\n",
    "y.shape"
   ]
  },
  {
   "cell_type": "markdown",
   "metadata": {},
   "source": [
    "{k:v for k,v in zip(X,y)}"
   ]
  },
  {
   "cell_type": "code",
   "execution_count": 4,
   "metadata": {},
   "outputs": [],
   "source": [
    "def gradient_descent(x, y, w:float, b:float, alpha:float=0.01):\n",
    "    '''\n",
    "    optimize parameters w, b using gradient descent\n",
    "    '''\n",
    "    \n",
    "    dldw = 0\n",
    "    dldb = 0\n",
    "    N = x.shape[0]\n",
    "    \n",
    "    # loss = (y - yhat)**2\n",
    "    # or, loss = (y - (w*x + b))**2\n",
    "    for xi, yi in zip(x,y):\n",
    "        dldw += -2 * xi * (yi - (w*xi + b))\n",
    "        dldb += -2 * (yi - (w*xi + b))\n",
    "        \n",
    "    w = w - (alpha * (1/N) * dldw)\n",
    "    b = b - (alpha * (1/N) * dldb)\n",
    "    \n",
    "    return w, b"
   ]
  },
  {
   "cell_type": "code",
   "execution_count": 5,
   "metadata": {},
   "outputs": [
    {
     "name": "stdout",
     "output_type": "stream",
     "text": [
      "0 epoch: loss is [36.53174592] | w=[0.10579328] | b=[0.01377632]\n",
      "40 epoch: loss is [10.80573354] | w=[3.25079752] | b=[0.42466214]\n",
      "80 epoch: loss is [3.19623647] | w=[4.96107823] | b=[0.64949928]\n",
      "120 epoch: loss is [0.94541851] | w=[5.89116225] | b=[0.77238915]\n",
      "160 epoch: loss is [0.27964668] | w=[6.39696828] | b=[0.83949508]\n",
      "200 epoch: loss is [0.08271713] | w=[6.67204356] | b=[0.87611176]\n",
      "240 epoch: loss is [0.02446704] | w=[6.82164088] | b=[0.89607966]\n",
      "280 epoch: loss is [0.00723715] | w=[6.90299882] | b=[0.9069632]\n",
      "320 epoch: loss is [0.00214069] | w=[6.94724534] | b=[0.91289292]\n",
      "360 epoch: loss is [0.0006332] | w=[6.97130895] | b=[0.91612256]\n"
     ]
    }
   ],
   "source": [
    "w = 0.0  # np.random.randn()\n",
    "b = 0.0  # np.random.randn()\n",
    "alpha = 0.01\n",
    "\n",
    "losses = []\n",
    "w_list = []\n",
    "b_list = []\n",
    "for epoch in range(400):\n",
    "    w, b = gradient_descent(X, y, w, b, alpha)\n",
    "    yhat = w*X + b\n",
    "    loss = np.divide(np.sum((y - yhat)**2, axis=0), X.shape[0])\n",
    "    losses.extend(loss)\n",
    "    w_list.extend(w)\n",
    "    b_list.extend(b)\n",
    "    if epoch%40==0:  # print every 40th epoch\n",
    "        print(f\"{epoch} epoch: loss is {loss} | w={w} | b={b}\")\n",
    "\n",
    "# loss\n",
    "# w\n",
    "# b"
   ]
  },
  {
   "cell_type": "code",
   "execution_count": 6,
   "metadata": {},
   "outputs": [
    {
     "data": {
      "image/png": "[encoded data removed]",
      "text/plain": [
       "<Figure size 640x480 with 1 Axes>"
      ]
     },
     "metadata": {},
     "output_type": "display_data"
    }
   ],
   "source": [
    "plt.plot(losses, color='red', label='loss')\n",
    "plt.plot(w_list, color='blue', label='w')\n",
    "plt.plot(b_list, color='grey', label='b')\n",
    "plt.title('Loss vs epoch')\n",
    "plt.legend()\n",
    "plt.show();"
   ]
  },
  {
   "cell_type": "code",
   "execution_count": 7,
   "metadata": {},
   "outputs": [],
   "source": [
    "from plot_animation import AnimatePlot"
   ]
  },
  {
   "cell_type": "markdown",
   "metadata": {},
   "source": [
    "obj = AnimatePlot(np.array(losses))"
   ]
  },
  {
   "cell_type": "markdown",
   "metadata": {},
   "source": [
    "anim = obj.animate_plot()"
   ]
  },
  {
   "cell_type": "markdown",
   "metadata": {},
   "source": [
    "obj.save_animation(anim, 'losses_from_scratch.mp4')"
   ]
  },
  {
   "cell_type": "code",
   "execution_count": null,
   "metadata": {},
   "outputs": [],
   "source": []
  },
  {
   "cell_type": "markdown",
   "metadata": {},
   "source": [
    "# Validation"
   ]
  },
  {
   "cell_type": "code",
   "execution_count": null,
   "metadata": {},
   "outputs": [],
   "source": [
    "from sklearn.linear_model import LinearRegression\n",
    "from sklearn.metrics import mean_absolute_percentage_error"
   ]
  },
  {
   "cell_type": "code",
   "execution_count": null,
   "metadata": {},
   "outputs": [],
   "source": [
    "model = LinearRegression()\n",
    "\n",
    "model.fit(X, y)"
   ]
  },
  {
   "cell_type": "code",
   "execution_count": null,
   "metadata": {},
   "outputs": [],
   "source": [
    "yhat = model.predict(X)\n",
    "\n",
    "yhat.shape"
   ]
  },
  {
   "cell_type": "code",
   "execution_count": null,
   "metadata": {},
   "outputs": [],
   "source": [
    "mean_absolute_percentage_error(y, yhat)"
   ]
  },
  {
   "cell_type": "code",
   "execution_count": null,
   "metadata": {},
   "outputs": [],
   "source": [
    "X.shape"
   ]
  },
  {
   "cell_type": "code",
   "execution_count": null,
   "metadata": {},
   "outputs": [],
   "source": [
    "X[0:3]"
   ]
  },
  {
   "cell_type": "code",
   "execution_count": null,
   "metadata": {},
   "outputs": [],
   "source": [
    "input_data = np.array([[100]])\n",
    "model.predict(input_data)"
   ]
  },
  {
   "cell_type": "code",
   "execution_count": null,
   "metadata": {},
   "outputs": [],
   "source": []
  }
 ],
 "metadata": {
  "kernelspec": {
   "display_name": "python_test",
   "language": "python",
   "name": "python3"
  },
  "language_info": {
   "codemirror_mode": {
    "name": "ipython",
    "version": 3
   },
   "file_extension": ".py",
   "mimetype": "text/x-python",
   "name": "python",
   "nbconvert_exporter": "python",
   "pygments_lexer": "ipython3",
   "version": "3.10.9"
  },
  "orig_nbformat": 4
 },
 "nbformat": 4,
 "nbformat_minor": 2
}
