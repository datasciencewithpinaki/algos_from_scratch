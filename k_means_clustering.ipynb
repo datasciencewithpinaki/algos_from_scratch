{
 "cells": [
  {
   "cell_type": "markdown",
   "id": "2e9b06eb-4223-4004-a27f-91a12139abe6",
   "metadata": {},
   "source": [
    "# K-Means clustering"
   ]
  },
  {
   "cell_type": "code",
   "execution_count": 1,
   "id": "c9cac871-c2b9-4456-b598-8d4ee52a9855",
   "metadata": {
    "tags": []
   },
   "outputs": [],
   "source": [
    "# load dataset\n",
    "from sklearn.datasets import load_iris"
   ]
  },
  {
   "cell_type": "code",
   "execution_count": 2,
   "id": "f857e1d7-5ebb-423b-a612-21744cb77c51",
   "metadata": {
    "tags": []
   },
   "outputs": [],
   "source": [
    "import pandas as pd\n",
    "import numpy as np"
   ]
  },
  {
   "cell_type": "code",
   "execution_count": 3,
   "id": "20665d49-0c8a-4d62-be0a-ab1fc3680dc5",
   "metadata": {
    "tags": []
   },
   "outputs": [],
   "source": [
    "from IPython.core.interactiveshell import InteractiveShell\n",
    "InteractiveShell.ast_node_interactivity = 'all'"
   ]
  },
  {
   "cell_type": "code",
   "execution_count": null,
   "id": "cf809c6d-1318-4a9a-a980-e15b985b7c1a",
   "metadata": {},
   "outputs": [],
   "source": []
  },
  {
   "cell_type": "code",
   "execution_count": 4,
   "id": "cd338b9a-31d9-4587-8cae-a3f23fd7c5de",
   "metadata": {
    "tags": []
   },
   "outputs": [
    {
     "data": {
      "text/plain": [
       "tuple"
      ]
     },
     "execution_count": 4,
     "metadata": {},
     "output_type": "execute_result"
    }
   ],
   "source": [
    "df_tuple = load_iris(return_X_y=True, as_frame=True)\n",
    "\n",
    "type(df_tuple)"
   ]
  },
  {
   "cell_type": "code",
   "execution_count": 5,
   "id": "44f6860b-8999-41cf-b4fe-ebed2bc3e13b",
   "metadata": {
    "tags": []
   },
   "outputs": [
    {
     "data": {
      "text/plain": [
       "(150, 4)"
      ]
     },
     "execution_count": 5,
     "metadata": {},
     "output_type": "execute_result"
    },
    {
     "data": {
      "text/plain": [
       "(150,)"
      ]
     },
     "execution_count": 5,
     "metadata": {},
     "output_type": "execute_result"
    }
   ],
   "source": [
    "X = df_tuple[0].values\n",
    "y = df_tuple[1].values\n",
    "\n",
    "X.shape\n",
    "y.shape"
   ]
  },
  {
   "cell_type": "code",
   "execution_count": 6,
   "id": "918ea8f6",
   "metadata": {
    "tags": []
   },
   "outputs": [
    {
     "data": {
      "text/plain": [
       "array([[5.1, 3.5, 1.4, 0.2],\n",
       "       [4.9, 3. , 1.4, 0.2],\n",
       "       [4.7, 3.2, 1.3, 0.2],\n",
       "       [4.6, 3.1, 1.5, 0.2],\n",
       "       [5. , 3.6, 1.4, 0.2],\n",
       "       [5.4, 3.9, 1.7, 0.4],\n",
       "       [4.6, 3.4, 1.4, 0.3],\n",
       "       [5. , 3.4, 1.5, 0.2],\n",
       "       [4.4, 2.9, 1.4, 0.2],\n",
       "       [4.9, 3.1, 1.5, 0.1]])"
      ]
     },
     "execution_count": 6,
     "metadata": {},
     "output_type": "execute_result"
    }
   ],
   "source": [
    "X[0:10]"
   ]
  },
  {
   "cell_type": "code",
   "execution_count": 7,
   "id": "d464bba6",
   "metadata": {
    "tags": []
   },
   "outputs": [
    {
     "data": {
      "text/plain": [
       "(150, 4)"
      ]
     },
     "execution_count": 7,
     "metadata": {},
     "output_type": "execute_result"
    },
    {
     "data": {
      "text/plain": [
       "array([[0.22222222, 0.625     , 0.06779661, 0.04166667],\n",
       "       [0.16666667, 0.41666667, 0.06779661, 0.04166667],\n",
       "       [0.11111111, 0.5       , 0.05084746, 0.04166667],\n",
       "       [0.08333333, 0.45833333, 0.08474576, 0.04166667],\n",
       "       [0.19444444, 0.66666667, 0.06779661, 0.04166667],\n",
       "       [0.30555556, 0.79166667, 0.11864407, 0.125     ],\n",
       "       [0.08333333, 0.58333333, 0.06779661, 0.08333333],\n",
       "       [0.19444444, 0.58333333, 0.08474576, 0.04166667],\n",
       "       [0.02777778, 0.375     , 0.06779661, 0.04166667],\n",
       "       [0.16666667, 0.45833333, 0.08474576, 0.        ]])"
      ]
     },
     "execution_count": 7,
     "metadata": {},
     "output_type": "execute_result"
    }
   ],
   "source": [
    "from sklearn.preprocessing import MinMaxScaler\n",
    "\n",
    "sc = MinMaxScaler()\n",
    "norm_X = sc.fit_transform(X)\n",
    "norm_X.shape\n",
    "norm_X[0:10]"
   ]
  },
  {
   "cell_type": "code",
   "execution_count": 8,
   "id": "a4c1983b-eea5-4861-88c9-bbfe98aa6f27",
   "metadata": {
    "tags": []
   },
   "outputs": [],
   "source": [
    "class KMeansClustering:\n",
    "        \n",
    "    def get_distance(p1, p2):\n",
    "        dist = np.sqrt(np.sum((p1 - p2)**2))\n",
    "        return dist\n",
    "    \n",
    "    def assign_centroid(X, centroids):\n",
    "        for k in centroids.keys():\n",
    "            centroids[k]['points'] = []\n",
    "        dict_assigned_cluster = {}\n",
    "        for idx, x in enumerate(X):\n",
    "            nearest_cluster = np.argmin([KMeansClustering.get_distance(x, centroids[k]['centroid']) for k in centroids.keys()])\n",
    "            centroids[nearest_cluster]['points'].append(x)\n",
    "            dict_assigned_cluster[idx] = nearest_cluster\n",
    "        return centroids, dict_assigned_cluster\n",
    "    \n",
    "    def recalculate_centroid(centroids):\n",
    "        for k in centroids.keys():\n",
    "            pts = centroids[k]['points']\n",
    "            if len(pts)>0:\n",
    "                centroids[k]['centroid'] = np.mean(pts, axis=0)\n",
    "        return centroids\n",
    "    \n",
    "    def fit(X, k:int=2, max_iteration:int=10):\n",
    "        ## initialize centroids\n",
    "        centroids_initial = np.random.random((k, X.shape[1]))\n",
    "        centroids_initial = {idx: {'centroid': v, 'points': []} for idx, v in enumerate(centroids_initial)}\n",
    "        for _ in range(max_iteration):\n",
    "            ## assign each point to a centroid\n",
    "            new_assignment, dict_assigned_cluster = KMeansClustering.assign_centroid(X, centroids_initial)\n",
    "            ## recalculate centroid\n",
    "            new_centroids = KMeansClustering.recalculate_centroid(new_assignment)\n",
    "        return new_centroids, dict_assigned_cluster\n"
   ]
  },
  {
   "cell_type": "code",
   "execution_count": 9,
   "id": "b14bca30",
   "metadata": {
    "tags": []
   },
   "outputs": [
    {
     "data": {
      "text/plain": [
       "array([[0.22222222, 0.625     , 0.06779661, 0.04166667],\n",
       "       [0.16666667, 0.41666667, 0.06779661, 0.04166667],\n",
       "       [0.11111111, 0.5       , 0.05084746, 0.04166667],\n",
       "       [0.08333333, 0.45833333, 0.08474576, 0.04166667]])"
      ]
     },
     "execution_count": 9,
     "metadata": {},
     "output_type": "execute_result"
    }
   ],
   "source": [
    "norm_X[0:4]"
   ]
  },
  {
   "cell_type": "code",
   "execution_count": 10,
   "id": "73ea7dd4-4f0b-4749-9cb3-22639468eeb3",
   "metadata": {
    "tags": []
   },
   "outputs": [
    {
     "data": {
      "text/plain": [
       "3"
      ]
     },
     "execution_count": 10,
     "metadata": {},
     "output_type": "execute_result"
    },
    {
     "data": {
      "text/plain": [
       "150"
      ]
     },
     "execution_count": 10,
     "metadata": {},
     "output_type": "execute_result"
    }
   ],
   "source": [
    "cluster_res, dict_assigned_cluster = KMeansClustering.fit(norm_X, k=3, max_iteration=100)\n",
    "\n",
    "len(cluster_res)\n",
    "len(dict_assigned_cluster)"
   ]
  },
  {
   "cell_type": "code",
   "execution_count": 11,
   "id": "4e5d8a13-9094-4d3b-8a87-5fe50981b352",
   "metadata": {
    "tags": []
   },
   "outputs": [
    {
     "name": "stdout",
     "output_type": "stream",
     "text": [
      "idx = 0\n"
     ]
    },
    {
     "data": {
      "text/plain": [
       "['centroid', 'points']"
      ]
     },
     "execution_count": 11,
     "metadata": {},
     "output_type": "execute_result"
    },
    {
     "name": "stdout",
     "output_type": "stream",
     "text": [
      "idx = 1\n"
     ]
    },
    {
     "data": {
      "text/plain": [
       "['centroid', 'points']"
      ]
     },
     "execution_count": 11,
     "metadata": {},
     "output_type": "execute_result"
    },
    {
     "name": "stdout",
     "output_type": "stream",
     "text": [
      "idx = 2\n"
     ]
    },
    {
     "data": {
      "text/plain": [
       "['centroid', 'points']"
      ]
     },
     "execution_count": 11,
     "metadata": {},
     "output_type": "execute_result"
    }
   ],
   "source": [
    "for idx in range(3):\n",
    "    print(f\"{idx = }\")\n",
    "    list(cluster_res.get(idx))[0:4]"
   ]
  },
  {
   "cell_type": "code",
   "execution_count": 12,
   "id": "e45d776f-9c40-4ace-bab4-189eedcd0175",
   "metadata": {
    "tags": []
   },
   "outputs": [
    {
     "data": {
      "text/plain": [
       "array([0.55960648, 0.37326389, 0.67355226, 0.66796875])"
      ]
     },
     "execution_count": 12,
     "metadata": {},
     "output_type": "execute_result"
    },
    {
     "data": {
      "text/plain": [
       "array([0.24158249, 0.67929293, 0.08371854, 0.0719697 ])"
      ]
     },
     "execution_count": 12,
     "metadata": {},
     "output_type": "execute_result"
    },
    {
     "data": {
      "text/plain": [
       "array([0.12433862, 0.37301587, 0.1283293 , 0.10515873])"
      ]
     },
     "execution_count": 12,
     "metadata": {},
     "output_type": "execute_result"
    }
   ],
   "source": [
    "for idx in range(3):\n",
    "    cluster_res[idx]['centroid']"
   ]
  },
  {
   "cell_type": "code",
   "execution_count": 13,
   "id": "e62f2b84-0ad6-437f-aacf-752eeb3f556b",
   "metadata": {
    "tags": []
   },
   "outputs": [
    {
     "data": {
      "text/plain": [
       "96"
      ]
     },
     "execution_count": 13,
     "metadata": {},
     "output_type": "execute_result"
    },
    {
     "data": {
      "text/plain": [
       "33"
      ]
     },
     "execution_count": 13,
     "metadata": {},
     "output_type": "execute_result"
    },
    {
     "data": {
      "text/plain": [
       "21"
      ]
     },
     "execution_count": 13,
     "metadata": {},
     "output_type": "execute_result"
    }
   ],
   "source": [
    "for idx in range(3):\n",
    "    len(cluster_res[idx]['points'])"
   ]
  },
  {
   "cell_type": "code",
   "execution_count": 14,
   "id": "e5f836dc-e69e-4b28-bca0-bbdbafcbb9a1",
   "metadata": {
    "tags": []
   },
   "outputs": [
    {
     "data": {
      "text/plain": [
       "[array([0.75      , 0.5       , 0.62711864, 0.54166667]),\n",
       " array([0.58333333, 0.5       , 0.59322034, 0.58333333]),\n",
       " array([0.72222222, 0.45833333, 0.66101695, 0.58333333]),\n",
       " array([0.33333333, 0.125     , 0.50847458, 0.5       ])]"
      ]
     },
     "execution_count": 14,
     "metadata": {},
     "output_type": "execute_result"
    },
    {
     "data": {
      "text/plain": [
       "[array([0.22222222, 0.625     , 0.06779661, 0.04166667]),\n",
       " array([0.19444444, 0.66666667, 0.06779661, 0.04166667]),\n",
       " array([0.30555556, 0.79166667, 0.11864407, 0.125     ]),\n",
       " array([0.08333333, 0.58333333, 0.06779661, 0.08333333])]"
      ]
     },
     "execution_count": 14,
     "metadata": {},
     "output_type": "execute_result"
    },
    {
     "data": {
      "text/plain": [
       "[array([0.16666667, 0.41666667, 0.06779661, 0.04166667]),\n",
       " array([0.11111111, 0.5       , 0.05084746, 0.04166667]),\n",
       " array([0.08333333, 0.45833333, 0.08474576, 0.04166667]),\n",
       " array([0.02777778, 0.375     , 0.06779661, 0.04166667])]"
      ]
     },
     "execution_count": 14,
     "metadata": {},
     "output_type": "execute_result"
    }
   ],
   "source": [
    "for idx in range(3):\n",
    "    cluster_res[idx]['points'][0:4]"
   ]
  },
  {
   "cell_type": "raw",
   "id": "f96af719-931d-4fc2-8515-c02e558952cb",
   "metadata": {
    "tags": []
   },
   "source": [
    "dict_assigned_cluster"
   ]
  },
  {
   "cell_type": "code",
   "execution_count": 16,
   "id": "b3fd5c01-0810-4b31-b08d-9f86594ddde4",
   "metadata": {
    "tags": []
   },
   "outputs": [
    {
     "data": {
      "text/plain": [
       "(150, 5)"
      ]
     },
     "execution_count": 16,
     "metadata": {},
     "output_type": "execute_result"
    },
    {
     "data": {
      "text/html": [
       "<div>\n",
       "<style scoped>\n",
       "    .dataframe tbody tr th:only-of-type {\n",
       "        vertical-align: middle;\n",
       "    }\n",
       "\n",
       "    .dataframe tbody tr th {\n",
       "        vertical-align: top;\n",
       "    }\n",
       "\n",
       "    .dataframe thead th {\n",
       "        text-align: right;\n",
       "    }\n",
       "</style>\n",
       "<table border=\"1\" class=\"dataframe\">\n",
       "  <thead>\n",
       "    <tr style=\"text-align: right;\">\n",
       "      <th></th>\n",
       "      <th>sep_l</th>\n",
       "      <th>sep_w</th>\n",
       "      <th>pet_l</th>\n",
       "      <th>pet_w</th>\n",
       "      <th>label</th>\n",
       "    </tr>\n",
       "  </thead>\n",
       "  <tbody>\n",
       "    <tr>\n",
       "      <th>0</th>\n",
       "      <td>0.222222</td>\n",
       "      <td>0.625000</td>\n",
       "      <td>0.067797</td>\n",
       "      <td>0.041667</td>\n",
       "      <td>1</td>\n",
       "    </tr>\n",
       "    <tr>\n",
       "      <th>1</th>\n",
       "      <td>0.166667</td>\n",
       "      <td>0.416667</td>\n",
       "      <td>0.067797</td>\n",
       "      <td>0.041667</td>\n",
       "      <td>2</td>\n",
       "    </tr>\n",
       "    <tr>\n",
       "      <th>2</th>\n",
       "      <td>0.111111</td>\n",
       "      <td>0.500000</td>\n",
       "      <td>0.050847</td>\n",
       "      <td>0.041667</td>\n",
       "      <td>2</td>\n",
       "    </tr>\n",
       "  </tbody>\n",
       "</table>\n",
       "</div>"
      ],
      "text/plain": [
       "      sep_l     sep_w     pet_l     pet_w  label\n",
       "0  0.222222  0.625000  0.067797  0.041667      1\n",
       "1  0.166667  0.416667  0.067797  0.041667      2\n",
       "2  0.111111  0.500000  0.050847  0.041667      2"
      ]
     },
     "execution_count": 16,
     "metadata": {},
     "output_type": "execute_result"
    }
   ],
   "source": [
    "df_op = pd.DataFrame(norm_X, columns = ['sep_l', 'sep_w', 'pet_l', 'pet_w'])\n",
    "df_op['label'] = pd.DataFrame(dict_assigned_cluster.values())\n",
    "df_op.shape\n",
    "df_op.head(3)"
   ]
  },
  {
   "cell_type": "code",
   "execution_count": null,
   "id": "aae73eed-a0f6-4a0b-be8f-c2d05fa2e323",
   "metadata": {},
   "outputs": [],
   "source": []
  },
  {
   "cell_type": "code",
   "execution_count": null,
   "id": "41796bb5-08ab-4c74-b6b0-cf8cc5b6fa1c",
   "metadata": {},
   "outputs": [],
   "source": []
  },
  {
   "cell_type": "code",
   "execution_count": null,
   "id": "0ac2275f-57cd-4270-90ec-eba645618b0c",
   "metadata": {},
   "outputs": [],
   "source": []
  },
  {
   "cell_type": "markdown",
   "id": "3d78e811-ea3f-41b1-b2d5-754b4a946471",
   "metadata": {},
   "source": [
    "# Points in plot"
   ]
  },
  {
   "cell_type": "code",
   "execution_count": 17,
   "id": "b14647ae-4c95-4062-8ad4-502ec3c507f1",
   "metadata": {
    "tags": []
   },
   "outputs": [],
   "source": [
    "import matplotlib.pyplot as plt"
   ]
  },
  {
   "cell_type": "code",
   "execution_count": 31,
   "id": "8a9b2f78-1e09-4c76-8520-40c59fc152c9",
   "metadata": {
    "tags": []
   },
   "outputs": [
    {
     "data": {
      "image/png": "[encoded data removed]",
      "text/plain": [
       "<Figure size 864x576 with 1 Axes>"
      ]
     },
     "metadata": {
      "needs_background": "light"
     },
     "output_type": "display_data"
    }
   ],
   "source": [
    "plt.figure(figsize=(12,8))\n",
    "\n",
    "XLABEL = 'sep_l'\n",
    "YLABEL = 'pet_w'\n",
    "plt.scatter(df_op[XLABEL], df_op[YLABEL], c=df_op['label'])\n",
    "plt.title('K Means Clustering of Iris datase')\n",
    "plt.xlabel(XLABEL)\n",
    "plt.ylabel(YLABEL)\n",
    "plt.show();"
   ]
  },
  {
   "cell_type": "code",
   "execution_count": null,
   "id": "25ddc1c8-da83-442c-897c-ef46d7bf0b51",
   "metadata": {},
   "outputs": [],
   "source": []
  },
  {
   "cell_type": "code",
   "execution_count": null,
   "id": "5e1ec1d6-e68e-4090-a397-55ee0959779a",
   "metadata": {},
   "outputs": [],
   "source": []
  },
  {
   "cell_type": "code",
   "execution_count": null,
   "id": "a7bb0a6e-c5ce-4649-8dd6-8b3f7aefd359",
   "metadata": {},
   "outputs": [],
   "source": []
  }
 ],
 "metadata": {
  "kernelspec": {
   "display_name": "python_test",
   "language": "python",
   "name": "python_test"
  },
  "language_info": {
   "codemirror_mode": {
    "name": "ipython",
    "version": 3
   },
   "file_extension": ".py",
   "mimetype": "text/x-python",
   "name": "python",
   "nbconvert_exporter": "python",
   "pygments_lexer": "ipython3",
   "version": "3.10.4"
  }
 },
 "nbformat": 4,
 "nbformat_minor": 5
}
